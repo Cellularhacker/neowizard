{
  "nbformat": 4,
  "nbformat_minor": 0,
  "metadata": {
    "colab": {
      "name": "TF_2.x_LEC_02_TF_1.x_Exercise.ipynb",
      "provenance": [],
      "collapsed_sections": []
    },
    "kernelspec": {
      "display_name": "Python 3",
      "language": "python",
      "name": "python3"
    },
    "language_info": {
      "codemirror_mode": {
        "name": "ipython",
        "version": 3
      },
      "file_extension": ".py",
      "mimetype": "text/x-python",
      "name": "python",
      "nbconvert_exporter": "python",
      "pygments_lexer": "ipython3",
      "version": "3.7.3"
    }
  },
  "cells": [
    {
      "cell_type": "code",
      "metadata": {
        "colab_type": "code",
        "id": "St3k2kbdXinQ",
        "colab": {
          "base_uri": "https://localhost:8080/",
          "height": 89
        },
        "outputId": "1bfea8d1-394b-4565-a3aa-0497a78ce031"
      },
      "source": [
        "%tensorflow_version 1.x\n",
        "\n",
        "import tensorflow as tf\n",
        "\n",
        "print('tensorflow version = ', tf.__version__)\n",
        "print('===========================================')\n",
        "\n",
        "a = tf.constant(1.0)\n",
        "b = tf.constant(2.0)\n",
        "\n",
        "c = a + b\n",
        "\n",
        "print('c = ', c)\n",
        "\n",
        "with tf.Session() as sess:    # session 만든 후에 연산 실행\n",
        "\n",
        "    print(sess.run(c))"
      ],
      "execution_count": null,
      "outputs": [
        {
          "output_type": "stream",
          "text": [
            "tensorflow version =  1.15.2\n",
            "===========================================\n",
            "c =  Tensor(\"add_7:0\", shape=(), dtype=float32)\n",
            "3.0\n"
          ],
          "name": "stdout"
        }
      ]
    },
    {
      "cell_type": "code",
      "metadata": {
        "colab_type": "code",
        "id": "QvRAkt0uYSLd",
        "colab": {
          "base_uri": "https://localhost:8080/",
          "height": 125
        },
        "outputId": "5906ea64-a411-443c-d96d-65b71d14e69e"
      },
      "source": [
        "%tensorflow_version 1.x\n",
        "\n",
        "import tensorflow as tf\n",
        "\n",
        "print('tensorflow version = ', tf.__version__)\n",
        "print('===========================================')\n",
        "\n",
        "W = tf.Variable(tf.random_normal([1]))  # 가우시안 분포\n",
        "print(W)\n",
        "print('===========================================')\n",
        "\n",
        "# session 생성 하고,\n",
        "# tf.Variable(...) 초기화 해주는 코드 실행 후 연산 실행\n",
        "\n",
        "with tf.Session() as sess:\n",
        "\n",
        "    # 변수 노드 값 초기화\n",
        "    sess.run(tf.global_variables_initializer())\n",
        "\n",
        "    for step in range(2):\n",
        "        W = W + 1.0\n",
        "        print('step = ', step, ', W = ', sess.run(W))"
      ],
      "execution_count": null,
      "outputs": [
        {
          "output_type": "stream",
          "text": [
            "tensorflow version =  1.15.2\n",
            "===========================================\n",
            "<tf.Variable 'Variable_1:0' shape=(1,) dtype=float32_ref>\n",
            "===========================================\n",
            "step =  0 , W =  [0.8110943]\n",
            "step =  1 , W =  [1.8110943]\n"
          ],
          "name": "stdout"
        }
      ]
    },
    {
      "cell_type": "code",
      "metadata": {
        "colab_type": "code",
        "id": "A19lBudRab0f",
        "colab": {
          "base_uri": "https://localhost:8080/",
          "height": 71
        },
        "outputId": "6d4e27f6-8f23-4396-a97a-a0b62165e6fa"
      },
      "source": [
        "%tensorflow_version 1.x\n",
        "\n",
        "import tensorflow as tf\n",
        "\n",
        "print('tensorflow version = ', tf.__version__)\n",
        "print('===========================================')\n",
        "\n",
        "a = tf.placeholder(tf.float32)  # 입력 값 저장할 노드 정의\n",
        "b = tf.placeholder(tf.float32)  # 입력 값 저장할 노드 정의\n",
        "\n",
        "# 함수 정의\n",
        "def tensor_sum(x, y):\n",
        "    return x + y\n",
        "\n",
        "result = tensor_sum(a, b)   # 함수 결과 값 저장 할 노드 정의\n",
        "\n",
        "# session 생성 하고,\n",
        "# feed_dict 통해서 placeholder 노드에 값 대입\n",
        "\n",
        "with tf.Session() as sess:\n",
        "\n",
        "    print(sess.run(result, feed_dict={a: [1.0], b: [3.0]}))"
      ],
      "execution_count": null,
      "outputs": [
        {
          "output_type": "stream",
          "text": [
            "tensorflow version =  1.15.2\n",
            "===========================================\n",
            "[4.]\n"
          ],
          "name": "stdout"
        }
      ]
    },
    {
      "cell_type": "code",
      "metadata": {
        "colab_type": "code",
        "id": "m3-jnESnbe83",
        "colab": {}
      },
      "source": [
        ""
      ],
      "execution_count": null,
      "outputs": []
    }
  ]
}